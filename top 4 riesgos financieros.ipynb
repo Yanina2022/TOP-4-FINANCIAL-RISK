{
 "cells": [
  {
   "cell_type": "code",
   "execution_count": null,
   "metadata": {},
   "outputs": [
    {
     "ename": "",
     "evalue": "",
     "output_type": "error",
     "traceback": [
      "\u001b[1;31mFailed to start the Kernel. \n",
      "\u001b[1;31mUnable to start Kernel 'Python 3.12.-1' due to a timeout waiting for the ports to get used. \n",
      "\u001b[1;31mView Jupyter <a href='command:jupyter.viewOutput'>log</a> for further details."
     ]
    }
   ],
   "source": [
    "#importacion de librerias de python necesarias"
   ]
  },
  {
   "cell_type": "code",
   "execution_count": 1,
   "metadata": {},
   "outputs": [],
   "source": [
    "import pandas as pd"
   ]
  },
  {
   "cell_type": "code",
   "execution_count": 2,
   "metadata": {},
   "outputs": [],
   "source": [
    "import numpy as np"
   ]
  },
  {
   "cell_type": "markdown",
   "metadata": {},
   "source": [
    "Leer archivo formato csv"
   ]
  },
  {
   "cell_type": "code",
   "execution_count": 3,
   "metadata": {},
   "outputs": [],
   "source": [
    "df = pd.read_csv('C:/Users/yana/Desktop/big4_financial_risk_compliance.csv')"
   ]
  },
  {
   "cell_type": "code",
   "execution_count": 4,
   "metadata": {},
   "outputs": [
    {
     "name": "stdout",
     "output_type": "stream",
     "text": [
      "   Year Firm_Name  Total_Audit_Engagements  High_Risk_Cases  \\\n",
      "0  2020       PwC                     2829               51   \n",
      "1  2022  Deloitte                     3589              185   \n",
      "2  2020       PwC                     2438              212   \n",
      "3  2021       PwC                     2646              397   \n",
      "4  2020       PwC                     2680              216   \n",
      "\n",
      "   Compliance_Violations  Fraud_Cases_Detected Industry_Affected  \\\n",
      "0                    123                    39        Healthcare   \n",
      "1                     30                    60        Healthcare   \n",
      "2                    124                    97        Healthcare   \n",
      "3                     55                    97        Healthcare   \n",
      "4                     99                    46        Healthcare   \n",
      "\n",
      "   Total_Revenue_Impact AI_Used_for_Auditing  Employee_Workload  \\\n",
      "0                114.24                   No                 57   \n",
      "1                156.98                  Yes                 58   \n",
      "2                131.83                   No                 76   \n",
      "3                229.11                   No                 60   \n",
      "4                 48.00                   No                 51   \n",
      "\n",
      "   Audit_Effectiveness_Score  Client_Satisfaction_Score  \n",
      "0                        5.8                        8.4  \n",
      "1                        5.3                        6.7  \n",
      "2                        6.1                        6.2  \n",
      "3                        5.1                        8.6  \n",
      "4                        9.1                        6.7  \n"
     ]
    }
   ],
   "source": [
    "print(df.head()) #ver primeros  datos "
   ]
  },
  {
   "cell_type": "markdown",
   "metadata": {},
   "source": [
    "Comprobacion de cantidad de informacion obtenida"
   ]
  },
  {
   "cell_type": "code",
   "execution_count": 5,
   "metadata": {},
   "outputs": [
    {
     "data": {
      "text/plain": [
       "(100, 12)"
      ]
     },
     "execution_count": 5,
     "metadata": {},
     "output_type": "execute_result"
    }
   ],
   "source": [
    "df.shape"
   ]
  },
  {
   "cell_type": "markdown",
   "metadata": {},
   "source": [
    "obtuvimos 100 filas y 12 columnas"
   ]
  },
  {
   "cell_type": "code",
   "execution_count": 6,
   "metadata": {},
   "outputs": [],
   "source": [
    "pd.set_option('display.float_format', '{:,.2f}'.format)"
   ]
  },
  {
   "cell_type": "markdown",
   "metadata": {},
   "source": [
    "comprobacion de valores nulos "
   ]
  },
  {
   "cell_type": "code",
   "execution_count": 7,
   "metadata": {},
   "outputs": [
    {
     "data": {
      "text/plain": [
       "Year                         0\n",
       "Firm_Name                    0\n",
       "Total_Audit_Engagements      0\n",
       "High_Risk_Cases              0\n",
       "Compliance_Violations        0\n",
       "Fraud_Cases_Detected         0\n",
       "Industry_Affected            0\n",
       "Total_Revenue_Impact         0\n",
       "AI_Used_for_Auditing         0\n",
       "Employee_Workload            0\n",
       "Audit_Effectiveness_Score    0\n",
       "Client_Satisfaction_Score    0\n",
       "dtype: int64"
      ]
     },
     "execution_count": 7,
     "metadata": {},
     "output_type": "execute_result"
    }
   ],
   "source": [
    "df.isnull().sum()"
   ]
  },
  {
   "cell_type": "code",
   "execution_count": 8,
   "metadata": {},
   "outputs": [
    {
     "name": "stdout",
     "output_type": "stream",
     "text": [
      "0\n"
     ]
    }
   ],
   "source": [
    "conteo_duplicados = df.duplicated().sum()\n",
    "print(conteo_duplicados)"
   ]
  },
  {
   "cell_type": "markdown",
   "metadata": {},
   "source": [
    "Con estas  comprobaciones pudimos ver que los datos estan limpios"
   ]
  },
  {
   "cell_type": "code",
   "execution_count": null,
   "metadata": {},
   "outputs": [],
   "source": [
    "df.to_csv('C:/Users/yana/Desktop/datos_limpios.csv', index=False)"
   ]
  },
  {
   "cell_type": "markdown",
   "metadata": {},
   "source": [
    "Guardamos los datos ya limpios."
   ]
  }
 ],
 "metadata": {
  "kernelspec": {
   "display_name": "Python 3",
   "language": "python",
   "name": "python3"
  },
  "language_info": {
   "codemirror_mode": {
    "name": "ipython",
    "version": 3
   },
   "file_extension": ".py",
   "mimetype": "text/x-python",
   "name": "python",
   "nbconvert_exporter": "python",
   "pygments_lexer": "ipython3",
   "version": "3.12.9"
  }
 },
 "nbformat": 4,
 "nbformat_minor": 2
}
